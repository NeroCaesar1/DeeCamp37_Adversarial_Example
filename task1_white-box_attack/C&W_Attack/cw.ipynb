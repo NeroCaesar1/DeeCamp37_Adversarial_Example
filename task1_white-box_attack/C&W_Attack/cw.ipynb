{
 "cells": [
  {
   "cell_type": "code",
   "execution_count": 1,
   "metadata": {},
   "outputs": [
    {
     "name": "stdout",
     "output_type": "stream",
     "text": [
      "['', '/root/anaconda3/lib/python36.zip', '/root/anaconda3/lib/python3.6', '/root/anaconda3/lib/python3.6/lib-dynload', '/root/anaconda3/lib/python3.6/site-packages', '/root/anaconda3/lib/python3.6/site-packages/torchvision-0.2.1-py3.6.egg', '/root/anaconda3/lib/python3.6/site-packages/IPython/extensions', '/root/.ipython', '/root/workspace/face.evoLVe.PyTorch/align', '/root/workspace/face.evoLVe.PyTorch/backbone']\n",
      "/root/workspace/face.evoLVe.PyTorch/data/crop_face/chengqiang/39.png\n"
     ]
    }
   ],
   "source": [
    "import torch\n",
    "import utils\n",
    "import get_face\n",
    "import random\n",
    "from PIL import Image\n",
    "from model_irse import IR_50\n",
    "\n",
    "def init_model(model, param, device):\n",
    "    m = model([112,112])\n",
    "    m.eval()\n",
    "    m.to(device)\n",
    "    m.load_state_dict(torch.load(param))\n",
    "    return m\n",
    "\n",
    "\n",
    "def get_img_pool(person_list, device):\n",
    "    person_pool = []\n",
    "    for el in person_list:\n",
    "        person_pool.append(utils.to_torch_tensor(Image.open(el)).unsqueeze_(0).to(device))\n",
    "    return person_pool\n",
    "\n",
    "\n",
    "def get_mean_v(img_pool, model, device):\n",
    "    v_list = []\n",
    "    if img_pool != None and len(img_pool) > 0:\n",
    "        for img in img_pool:\n",
    "            v_list.append(utils.l2_norm(model(img))) \n",
    "        v_mean = torch.cat(v_list, 0).sum(0).unsqueeze_(0) / len(img_pool)\n",
    "        v_mean.detach_()\n",
    "        return v_mean\n",
    "    else:\n",
    "        return None\n",
    "\n",
    "    \n",
    "def get_init_noise(device):\n",
    "    noise = torch.Tensor(1, 3, 112, 112)\n",
    "    noise = torch.nn.init.xavier_normal(noise, gain=5)\n",
    "    return noise.to(device)\n",
    "\n",
    "    \n",
    "origin_name = 'chengqiang'\n",
    "target_name = 'guoth'\n",
    "device = torch.device('cpu')\n",
    "\n",
    "crop_paths, gen_paths, imgs_dis, people = get_face.get_crop_face_file(get_face.crop_root, get_face.gen_root, gen=False)\n",
    "start_index = [0]\n",
    "s = 0\n",
    "for i in range(len(imgs_dis) - 1 ):\n",
    "    s += imgs_dis[i]\n",
    "    start_index.append(s)\n",
    "\n",
    "people_map = utils.list2map(people)\n",
    "origin_person = people_map[origin_name]\n",
    "target_person = people_map[target_name]\n",
    "\n",
    "s1 = start_index[origin_person]\n",
    "s2 = s1 + imgs_dis[origin_person]\n",
    "same_person_list = crop_paths[s1:s2]\n",
    "s1 = start_index[target_person]\n",
    "s2 = s1 + imgs_dis[target_person]\n",
    "target_face_list = crop_paths[s1:s2]\n",
    "s = len(same_person_list)\n",
    "index = random.randint(0, s - 1)\n",
    "img_origin = same_person_list.pop(index)\n",
    "print(img_origin)\n",
    "img_origin = utils.to_torch_tensor(Image.open(img_origin)) \n",
    "img_origin = img_origin.unsqueeze_(0).to(device)\n",
    "same_person_pool = get_img_pool(same_person_list, device)\n",
    "target_face_pool = get_img_pool(target_face_list, device)"
   ]
  },
  {
   "cell_type": "code",
   "execution_count": 2,
   "metadata": {},
   "outputs": [
    {
     "name": "stdout",
     "output_type": "stream",
     "text": [
      "caculate v1 mean-------\n",
      "caculate v2 mean--------\n"
     ]
    }
   ],
   "source": [
    "model = init_model(IR_50, 'models/backbone_ir50_ms1m_epoch120.pth', device)\n",
    "\n",
    "print('caculate v1 mean-------')\n",
    "v1_mean = get_mean_v(same_person_pool, model, device)\n",
    "print('caculate v2 mean--------')\n",
    "v2_mean = get_mean_v(target_face_pool, model, device)"
   ]
  },
  {
   "cell_type": "code",
   "execution_count": 3,
   "metadata": {},
   "outputs": [],
   "source": [
    "noise = get_init_noise(device)"
   ]
  },
  {
   "cell_type": "code",
   "execution_count": 4,
   "metadata": {},
   "outputs": [
    {
     "name": "stdout",
     "output_type": "stream",
     "text": [
      "0.8469853401184082 6.984341212681362 tensor(69.7907)\n",
      "0.6682920455932617 6.356812068394253 tensor(60.7742)\n",
      "0.5327918529510498 5.8143512180873325 tensor(48.8263)\n",
      "0.4769361615180969 5.33751950945173 tensor(42.4448)\n",
      "0.4391644597053528 4.890846797398159 tensor(37.8106)\n",
      "0.4067380428314209 4.530388695853097 tensor(34.9365)\n",
      "0.38281309604644775 4.204600470406668 tensor(31.8724)\n",
      "0.36965078115463257 3.9234166826520647 tensor(30.4340)\n",
      "0.353520929813385 3.6921116965157643 tensor(27.7634)\n",
      "0.34874439239501953 3.475086212158203 tensor(30.8481)\n",
      "0.3573451638221741 3.3454693385532925 tensor(42.1040)\n",
      "0.38893765211105347 3.1560600825718472 tensor(39.6270)\n",
      "0.33316922187805176 3.1249002729143416 tensor(29.4232)\n",
      "0.32277143001556396 2.9898079463413785 tensor(30.1063)\n",
      "0.324579119682312 2.9109366280691966 tensor(35.3322)\n",
      "0.3348544239997864 2.8117517743791853 tensor(35.6404)\n",
      "0.3192461133003235 2.8113632202148438 tensor(34.1567)\n",
      "0.3192934989929199 2.736840384347098 tensor(26.9688)\n",
      "0.2921186089515686 2.726339340209961 tensor(20.3129)\n",
      "0.2887071371078491 2.634096690586635 tensor(21.3777)\n",
      "0.2944924235343933 2.627811976841518 tensor(23.4129)\n",
      "0.28608089685440063 2.6057322365897044 tensor(25.2628)\n",
      "0.29247498512268066 2.604235512869699 tensor(30.2470)\n",
      "0.30559366941452026 2.5938788822719028 tensor(39.9006)\n",
      "0.32354825735092163 2.711013521466936 tensor(46.4047)\n",
      "0.3347489833831787 2.6673246111188615 tensor(37.5460)\n",
      "0.277385950088501 2.7796644483293806 tensor(29.0966)\n",
      "0.28614330291748047 2.645053046090262 tensor(29.3742)\n",
      "0.27023690938949585 2.695936475481306 tensor(30.6833)\n",
      "0.27733635902404785 2.6380737849644254 tensor(31.9934)\n",
      "0.26366597414016724 2.7290990012032643 tensor(34.3425)\n",
      "0.28380006551742554 2.6511437552315846 tensor(36.4723)\n",
      "0.2732359766960144 2.7496256147112166 tensor(34.7918)\n",
      "0.27024781703948975 2.7279159000941684 tensor(30.7449)\n",
      "0.25016844272613525 2.738731929234096 tensor(24.9883)\n",
      "0.2436528205871582 2.6716820853097096 tensor(22.2471)\n",
      "0.23413026332855225 2.699718747820173 tensor(23.5205)\n",
      "0.24848556518554688 2.6444315229143416 tensor(28.7163)\n",
      "0.23859328031539917 2.771881648472377 tensor(32.7117)\n",
      "0.27394306659698486 2.6664390563964844 tensor(33.9597)\n",
      "0.24184095859527588 2.861712864467076 tensor(34.8927)\n",
      "0.2834751009941101 2.730118615286691 tensor(34.4710)\n",
      "0.2323284149169922 2.8363636561802457 tensor(27.9699)\n",
      "0.23682940006256104 2.737736020769392 tensor(27.0246)\n",
      "0.22920727729797363 2.770419257027762 tensor(28.8247)\n",
      "0.2462257742881775 2.725787571498326 tensor(30.1862)\n",
      "0.22280579805374146 2.787978308541434 tensor(28.5467)\n",
      "0.23217779397964478 2.742438180106027 tensor(32.3512)\n",
      "0.22906100749969482 2.8653343745640347 tensor(38.6694)\n",
      "0.2531006336212158 2.7858352661132812 tensor(35.9022)\n",
      "0.21134185791015625 2.8779212406703403 tensor(28.0193)\n",
      "0.22234076261520386 2.8130899156842912 tensor(29.9243)\n",
      "0.2067762017250061 2.890751702444894 tensor(28.2198)\n",
      "0.21373623609542847 2.827517645699637 tensor(26.5134)\n",
      "0.20192992687225342 2.8798348563058034 tensor(28.6912)\n",
      "0.23246538639068604 2.7922654833112444 tensor(38.0085)\n",
      "0.23407721519470215 2.9733249119349887 tensor(45.0406)\n",
      "0.2622503638267517 2.9320250919886996 tensor(41.4032)\n",
      "0.19736653566360474 3.0378246307373047 tensor(25.7142)\n",
      "0.17987161874771118 2.9504901341029575 tensor(11.6664)\n",
      "0.1780427098274231 2.922479901994978 tensor(10.0646)\n",
      "0.1774904727935791 2.909820011683873 tensor(9.7624)\n",
      "0.1772453784942627 2.9037557329450334 tensor(9.4479)\n",
      "0.17712271213531494 2.9009271349225725 tensor(9.3165)\n",
      "0.17706066370010376 2.899566650390625 tensor(9.2286)\n",
      "0.17703115940093994 2.898898260934012 tensor(9.1427)\n",
      "0.17701637744903564 2.8985655648367747 tensor(9.0979)\n",
      "0.17700904607772827 2.8984012603759766 tensor(9.0930)\n",
      "0.17700541019439697 2.898318426949637 tensor(9.0660)\n",
      "0.17700374126434326 2.8982767377580916 tensor(9.0665)\n",
      "0.17700284719467163 2.8982560294015065 tensor(9.0647)\n",
      "0.1770024299621582 2.8982456752232144 tensor(9.0593)\n",
      "0.1770021915435791 2.898240770612444 tensor(9.0616)\n",
      "0.17700201272964478 2.898237773350307 tensor(9.0620)\n",
      "0.17700189352035522 2.8982369559151784 tensor(9.0600)\n",
      "0.17700189352035522 2.8982361384800504 tensor(9.0597)\n",
      "0.17700201272964478 2.898235866001674 tensor(9.0592)\n",
      "0.17700189352035522 2.898235593523298 tensor(9.0594)\n",
      "0.177001953125 2.898235593523298 tensor(9.0582)\n",
      "0.177001953125 2.898235866001674 tensor(9.0584)\n",
      "0.177001953125 2.898235866001674 tensor(9.0581)\n",
      "0.177001953125 2.898235866001674 tensor(9.0581)\n",
      "0.177001953125 2.898235866001674 tensor(9.0586)\n",
      "0.17700201272964478 2.898235866001674 tensor(9.0586)\n",
      "0.17700201272964478 2.898235866001674 tensor(9.0586)\n",
      "0.17700201272964478 2.898235866001674 tensor(9.0586)\n",
      "0.17700201272964478 2.898235866001674 tensor(9.0586)\n",
      "0.17700201272964478 2.898235866001674 tensor(9.0586)\n",
      "0.17700201272964478 2.898235866001674 tensor(9.0586)\n",
      "0.17700201272964478 2.898235866001674 tensor(9.0586)\n",
      "0.17700201272964478 2.898235866001674 tensor(9.0586)\n",
      "0.17700201272964478 2.898235866001674 tensor(9.0586)\n",
      "0.17700201272964478 2.898235866001674 tensor(9.0586)\n",
      "0.17700201272964478 2.898235866001674 tensor(9.0586)\n",
      "0.17700201272964478 2.898235866001674 tensor(9.0586)\n",
      "0.17700201272964478 2.898235866001674 tensor(9.0586)\n",
      "0.17700201272964478 2.898235866001674 tensor(9.0586)\n",
      "0.17700201272964478 2.898235866001674 tensor(9.0586)\n",
      "0.17700201272964478 2.898235866001674 tensor(9.0586)\n",
      "0.17700201272964478 2.898235866001674 tensor(9.0586)\n",
      "0.17700201272964478 2.898235866001674 tensor(9.0586)\n",
      "0.17700201272964478 2.898235866001674 tensor(9.0586)\n",
      "0.17700201272964478 2.898235866001674 tensor(9.0586)\n",
      "0.17700201272964478 2.898235866001674 tensor(9.0586)\n",
      "0.17700201272964478 2.898235866001674 tensor(9.0586)\n",
      "0.17700201272964478 2.898235866001674 tensor(9.0586)\n",
      "0.17700201272964478 2.898235866001674 tensor(9.0586)\n",
      "0.17700201272964478 2.898235866001674 tensor(9.0586)\n",
      "0.17700201272964478 2.898235866001674 tensor(9.0586)\n",
      "0.17700201272964478 2.898235866001674 tensor(9.0586)\n",
      "0.17700201272964478 2.898235866001674 tensor(9.0586)\n",
      "0.17700201272964478 2.898235866001674 tensor(9.0586)\n",
      "0.17700201272964478 2.898235866001674 tensor(9.0586)\n",
      "0.17700201272964478 2.898235866001674 tensor(9.0586)\n",
      "0.17700201272964478 2.898235866001674 tensor(9.0586)\n",
      "0.17700201272964478 2.898235866001674 tensor(9.0586)\n",
      "0.17700201272964478 2.898235866001674 tensor(9.0586)\n",
      "0.17700201272964478 2.898235866001674 tensor(9.0586)\n",
      "0.17700201272964478 2.898235866001674 tensor(9.0586)\n",
      "0.17700201272964478 2.898235866001674 tensor(9.0586)\n",
      "0.17700201272964478 2.898235866001674 tensor(9.0586)\n",
      "0.17700201272964478 2.898235866001674 tensor(9.0586)\n",
      "0.17700201272964478 2.898235866001674 tensor(9.0586)\n",
      "0.17700201272964478 2.898235866001674 tensor(9.0586)\n",
      "0.17700201272964478 2.898235866001674 tensor(9.0586)\n",
      "0.17700201272964478 2.898235866001674 tensor(9.0586)\n",
      "0.17700201272964478 2.898235866001674 tensor(9.0586)\n",
      "0.17700201272964478 2.898235866001674 tensor(9.0586)\n",
      "0.17700201272964478 2.898235866001674 tensor(9.0586)\n",
      "0.17700201272964478 2.898235866001674 tensor(9.0586)\n",
      "0.17700201272964478 2.898235866001674 tensor(9.0586)\n",
      "0.17700201272964478 2.898235866001674 tensor(9.0586)\n",
      "0.17700201272964478 2.898235866001674 tensor(9.0586)\n",
      "0.17700201272964478 2.898235866001674 tensor(9.0586)\n",
      "0.17700201272964478 2.898235866001674 tensor(9.0586)\n",
      "0.17700201272964478 2.898235866001674 tensor(9.0586)\n",
      "0.17700201272964478 2.898235866001674 tensor(9.0586)\n",
      "0.17700201272964478 2.898235866001674 tensor(9.0586)\n",
      "0.17700201272964478 2.898235866001674 tensor(9.0586)\n",
      "0.17700201272964478 2.898235866001674 tensor(9.0586)\n",
      "0.17700201272964478 2.898235866001674 tensor(9.0586)\n",
      "0.17700201272964478 2.898235866001674 tensor(9.0586)\n",
      "0.17700201272964478 2.898235866001674 tensor(9.0586)\n",
      "0.17700201272964478 2.898235866001674 tensor(9.0586)\n",
      "0.17700201272964478 2.898235866001674 tensor(9.0586)\n",
      "0.17700201272964478 2.898235866001674 tensor(9.0586)\n",
      "0.17700201272964478 2.898235866001674 tensor(9.0586)\n",
      "0.17700201272964478 2.898235866001674 tensor(9.0586)\n",
      "0.17700201272964478 2.898235866001674 tensor(9.0586)\n",
      "0.17700201272964478 2.898235866001674 tensor(9.0586)\n",
      "0.17700201272964478 2.898235866001674 tensor(9.0586)\n",
      "0.17700201272964478 2.898235866001674 tensor(9.0586)\n",
      "0.17700201272964478 2.898235866001674 tensor(9.0586)\n",
      "0.17700201272964478 2.898235866001674 tensor(9.0586)\n"
     ]
    },
    {
     "name": "stdout",
     "output_type": "stream",
     "text": [
      "0.17700201272964478 2.898235866001674 tensor(9.0586)\n",
      "0.17700201272964478 2.898235866001674 tensor(9.0586)\n",
      "0.17700201272964478 2.898235866001674 tensor(9.0586)\n",
      "0.17700201272964478 2.898235866001674 tensor(9.0586)\n",
      "0.17700201272964478 2.898235866001674 tensor(9.0586)\n",
      "0.17700201272964478 2.898235866001674 tensor(9.0586)\n",
      "0.17700201272964478 2.898235866001674 tensor(9.0586)\n",
      "0.17700201272964478 2.898235866001674 tensor(9.0586)\n",
      "0.17700201272964478 2.898235866001674 tensor(9.0586)\n",
      "0.17700201272964478 2.898235866001674 tensor(9.0586)\n",
      "0.17700201272964478 2.898235866001674 tensor(9.0586)\n",
      "0.17700201272964478 2.898235866001674 tensor(9.0586)\n",
      "0.17700201272964478 2.898235866001674 tensor(9.0586)\n",
      "0.17700201272964478 2.898235866001674 tensor(9.0586)\n",
      "0.17700201272964478 2.898235866001674 tensor(9.0586)\n",
      "0.17700201272964478 2.898235866001674 tensor(9.0586)\n",
      "0.17700201272964478 2.898235866001674 tensor(9.0586)\n",
      "0.17700201272964478 2.898235866001674 tensor(9.0586)\n",
      "0.17700201272964478 2.898235866001674 tensor(9.0586)\n",
      "0.17700201272964478 2.898235866001674 tensor(9.0586)\n",
      "0.17700201272964478 2.898235866001674 tensor(9.0586)\n",
      "0.17700201272964478 2.898235866001674 tensor(9.0586)\n",
      "0.17700201272964478 2.898235866001674 tensor(9.0586)\n",
      "0.17700201272964478 2.898235866001674 tensor(9.0586)\n",
      "0.17700201272964478 2.898235866001674 tensor(9.0586)\n",
      "0.17700201272964478 2.898235866001674 tensor(9.0586)\n",
      "0.17700201272964478 2.898235866001674 tensor(9.0586)\n",
      "0.17700201272964478 2.898235866001674 tensor(9.0586)\n",
      "0.17700201272964478 2.898235866001674 tensor(9.0586)\n",
      "0.17700201272964478 2.898235866001674 tensor(9.0586)\n",
      "0.17700201272964478 2.898235866001674 tensor(9.0586)\n",
      "0.17700201272964478 2.898235866001674 tensor(9.0586)\n",
      "0.17700201272964478 2.898235866001674 tensor(9.0586)\n",
      "0.17700201272964478 2.898235866001674 tensor(9.0586)\n",
      "0.17700201272964478 2.898235866001674 tensor(9.0586)\n",
      "0.17700201272964478 2.898235866001674 tensor(9.0586)\n",
      "0.17700201272964478 2.898235866001674 tensor(9.0586)\n",
      "0.17700201272964478 2.898235866001674 tensor(9.0586)\n",
      "0.17700201272964478 2.898235866001674 tensor(9.0586)\n",
      "0.17700201272964478 2.898235866001674 tensor(9.0586)\n",
      "0.17700201272964478 2.898235866001674 tensor(9.0586)\n",
      "0.17700201272964478 2.898235866001674 tensor(9.0586)\n",
      "0.17700201272964478 2.898235866001674 tensor(9.0586)\n",
      "0.17700201272964478 2.898235866001674 tensor(9.0586)\n",
      "0.17700201272964478 2.898235866001674 tensor(9.0586)\n",
      "0.17700201272964478 2.898235866001674 tensor(9.0586)\n"
     ]
    }
   ],
   "source": [
    "target_attack = True\n",
    "lr = 2\n",
    "\n",
    "for i in range(200):\n",
    "    noise.requires_grad = True\n",
    "    v1 = utils.l2_norm(model(img_origin + noise))\n",
    "\n",
    "    if target_attack:\n",
    "        loss1 = 1 - (v1 * v2_mean).sum()\n",
    "    else:\n",
    "        loss1 = (v1 * v1_mean).sum()\n",
    "\n",
    "    loss2 = (noise ** 2).sum()\n",
    "\n",
    "    # C&W loss\n",
    "    if loss1.item() < 0.1:  \n",
    "        loss = 0.1 + 0.025 * loss2\n",
    "    else:\n",
    "        loss = loss1 + 0.025 * loss2\n",
    "\n",
    "    loss.backward()\n",
    "    print(loss1.item(), loss2.sqrt().item() * 128 / 112, noise.grad.abs().sum())\n",
    "\n",
    "\n",
    " #   if loss1 < 0.5:\n",
    "#        lr = 0.5 * lr\n",
    "    if loss1 < 0.2:\n",
    "        lr = 0.5 * lr    \n",
    "    noise = noise.detach() - lr * noise.grad.detach()\n",
    "    # noise = (noise + img_origin).clamp_(-1, 1) - img_origin\n",
    "    # noise = noise.clamp_(-0.2, 0.2)"
   ]
  },
  {
   "cell_type": "code",
   "execution_count": 5,
   "metadata": {},
   "outputs": [],
   "source": [
    "adv_sample = utils.get_adv_sample(noise.data, img_origin)\n",
    "adv_sample_t = utils.to_torch_tensor(adv_sample).unsqueeze_(0).to(device)\n",
    "v1_adv = utils.l2_norm(model(adv_sample_t))\n",
    "v1 = utils.l2_norm(model(img_origin))\n"
   ]
  },
  {
   "cell_type": "code",
   "execution_count": 6,
   "metadata": {},
   "outputs": [
    {
     "name": "stdout",
     "output_type": "stream",
     "text": [
      "tensor(0.9432, grad_fn=<SumBackward0>)\n",
      "tensor(0.2690, grad_fn=<SumBackward0>)\n",
      "tensor(0.1402, grad_fn=<SumBackward0>)\n",
      "tensor(0.8221, grad_fn=<SumBackward0>)\n"
     ]
    }
   ],
   "source": [
    "print((v1 * v1_mean).sum())\n",
    "print((v1_adv * v1_mean).sum())\n",
    "print((v1 * v2_mean).sum())\n",
    "print((v1_adv * v2_mean).sum())"
   ]
  },
  {
   "cell_type": "code",
   "execution_count": 12,
   "metadata": {},
   "outputs": [
    {
     "data": {
      "image/png": "[encoded data removed]",
      "text/plain": [
       "<Figure size 432x288 with 2 Axes>"
      ]
     },
     "metadata": {},
     "output_type": "display_data"
    }
   ],
   "source": [
    "import matplotlib.pyplot as plt\n",
    "\n",
    "img_origin_x = utils.to_pil_image(img_origin[0])\n",
    "def plot_images(imgs):\n",
    "    for i,img in enumerate(imgs):\n",
    "        plt.subplot(2,2,i+1)\n",
    "        plt.imshow(imgs[i])\n",
    "        \n",
    "        \n",
    "plot_images([img_origin_x, adv_sample])"
   ]
  },
  {
   "cell_type": "code",
   "execution_count": 10,
   "metadata": {},
   "outputs": [
    {
     "data": {
      "text/plain": [
       "22.0"
      ]
     },
     "execution_count": 10,
     "metadata": {},
     "output_type": "execute_result"
    }
   ],
   "source": [
    "import numpy as np\n",
    "img1 = np.array(img_origin_x, dtype=float)\n",
    "img2 = np.array(adv_sample, dtype=float)\n",
    "np.abs((img1-img2)).max()"
   ]
  },
  {
   "cell_type": "code",
   "execution_count": 32,
   "metadata": {},
   "outputs": [],
   "source": [
    "img_origin[0,0,0,0] = -1"
   ]
  },
  {
   "cell_type": "code",
   "execution_count": 33,
   "metadata": {},
   "outputs": [
    {
     "data": {
      "text/plain": [
       "tensor([[[[-1.0000,  0.9912,  0.9911,  ...,  0.9908,  0.9907,  0.9907],\n",
       "          [ 0.9911,  0.9912,  0.9909,  ...,  0.9907,  0.9906,  0.9906],\n",
       "          [ 0.9911,  0.9913,  0.9911,  ...,  0.9907,  0.9906,  0.9906],\n",
       "          ...,\n",
       "          [ 0.9855,  0.9853,  0.9852,  ...,  0.9892,  0.9893,  0.9893],\n",
       "          [ 0.9857,  0.9854,  0.9852,  ...,  0.9895,  0.9893,  0.9893],\n",
       "          [ 0.9858,  0.9854,  0.9852,  ...,  0.9893,  0.9893,  0.9893]],\n",
       "\n",
       "         [[ 0.9912,  0.9912,  0.9911,  ...,  0.9907,  0.9906,  0.9906],\n",
       "          [ 0.9911,  0.9912,  0.9909,  ...,  0.9906,  0.9904,  0.9904],\n",
       "          [ 0.9911,  0.9913,  0.9911,  ...,  0.9906,  0.9904,  0.9904],\n",
       "          ...,\n",
       "          [ 0.9849,  0.9847,  0.9846,  ...,  0.9891,  0.9892,  0.9892],\n",
       "          [ 0.9850,  0.9848,  0.9846,  ...,  0.9893,  0.9892,  0.9892],\n",
       "          [ 0.9852,  0.9848,  0.9846,  ...,  0.9892,  0.9892,  0.9892]],\n",
       "\n",
       "         [[ 0.9914,  0.9914,  0.9913,  ...,  0.9913,  0.9912,  0.9912],\n",
       "          [ 0.9913,  0.9914,  0.9912,  ...,  0.9912,  0.9911,  0.9911],\n",
       "          [ 0.9913,  0.9915,  0.9913,  ...,  0.9912,  0.9911,  0.9911],\n",
       "          ...,\n",
       "          [ 0.9846,  0.9843,  0.9841,  ...,  0.9901,  0.9902,  0.9900],\n",
       "          [ 0.9847,  0.9843,  0.9841,  ...,  0.9903,  0.9902,  0.9901],\n",
       "          [ 0.9848,  0.9844,  0.9841,  ...,  0.9900,  0.9900,  0.9900]]]])"
      ]
     },
     "execution_count": 33,
     "metadata": {},
     "output_type": "execute_result"
    }
   ],
   "source": [
    "img_origin"
   ]
  },
  {
   "cell_type": "code",
   "execution_count": 45,
   "metadata": {},
   "outputs": [
    {
     "ename": "TypeError",
     "evalue": "__init__() takes 3 positional arguments but 4 were given",
     "output_type": "error",
     "traceback": [
      "\u001b[0;31m---------------------------------------------------------------------------\u001b[0m",
      "\u001b[0;31mTypeError\u001b[0m                                 Traceback (most recent call last)",
      "\u001b[0;32m<ipython-input-45-7d2dec2312d7>\u001b[0m in \u001b[0;36m<module>\u001b[0;34m()\u001b[0m\n\u001b[1;32m      1\u001b[0m \u001b[0;32mimport\u001b[0m \u001b[0mtorchvision\u001b[0m\u001b[0;34m\u001b[0m\u001b[0m\n\u001b[0;32m----> 2\u001b[0;31m \u001b[0mtransform\u001b[0m \u001b[0;34m=\u001b[0m \u001b[0mtorchvision\u001b[0m\u001b[0;34m.\u001b[0m\u001b[0mtransforms\u001b[0m\u001b[0;34m.\u001b[0m\u001b[0mNormalize\u001b[0m\u001b[0;34m(\u001b[0m\u001b[0;34m[\u001b[0m\u001b[0;34m-\u001b[0m\u001b[0;36m1\u001b[0m\u001b[0;34m,\u001b[0m \u001b[0;34m-\u001b[0m\u001b[0;36m1\u001b[0m\u001b[0;34m,\u001b[0m \u001b[0;34m-\u001b[0m\u001b[0;36m1\u001b[0m\u001b[0;34m]\u001b[0m\u001b[0;34m,\u001b[0m\u001b[0;34m[\u001b[0m\u001b[0;36m2\u001b[0m\u001b[0;34m,\u001b[0m \u001b[0;36m2\u001b[0m\u001b[0;34m,\u001b[0m \u001b[0;36m2\u001b[0m\u001b[0;34m]\u001b[0m\u001b[0;34m,\u001b[0m \u001b[0;32mFalse\u001b[0m\u001b[0;34m)\u001b[0m\u001b[0;34m\u001b[0m\u001b[0m\n\u001b[0m\u001b[1;32m      3\u001b[0m \u001b[0;34m\u001b[0m\u001b[0m\n\u001b[1;32m      4\u001b[0m \u001b[0mimg_origin1\u001b[0m \u001b[0;34m=\u001b[0m \u001b[0mtransform\u001b[0m\u001b[0;34m(\u001b[0m\u001b[0mimg_origin\u001b[0m\u001b[0;34m[\u001b[0m\u001b[0;36m0\u001b[0m\u001b[0;34m]\u001b[0m\u001b[0;34m)\u001b[0m\u001b[0;34m\u001b[0m\u001b[0m\n\u001b[1;32m      5\u001b[0m \u001b[0mimg_origin1\u001b[0m\u001b[0;34m\u001b[0m\u001b[0m\n",
      "\u001b[0;31mTypeError\u001b[0m: __init__() takes 3 positional arguments but 4 were given"
     ]
    }
   ],
   "source": [
    "import torchvision\n",
    "transform = torchvision.transforms.Normalize([-1, -1, -1],[2, 2, 2], False)\n",
    "                      \n",
    "img_origin1 = transform(img_origin[0])\n",
    "img_origin1"
   ]
  },
  {
   "cell_type": "code",
   "execution_count": 46,
   "metadata": {},
   "outputs": [
    {
     "data": {
      "text/plain": [
       "'0.2.1'"
      ]
     },
     "execution_count": 46,
     "metadata": {},
     "output_type": "execute_result"
    }
   ],
   "source": [
    "torchvision.__version__"
   ]
  },
  {
   "cell_type": "code",
   "execution_count": null,
   "metadata": {},
   "outputs": [],
   "source": []
  }
 ],
 "metadata": {
  "kernelspec": {
   "display_name": "Python 3",
   "language": "python",
   "name": "python3"
  },
  "language_info": {
   "codemirror_mode": {
    "name": "ipython",
    "version": 3
   },
   "file_extension": ".py",
   "mimetype": "text/x-python",
   "name": "python",
   "nbconvert_exporter": "python",
   "pygments_lexer": "ipython3",
   "version": "3.6.5"
  }
 },
 "nbformat": 4,
 "nbformat_minor": 2
}
